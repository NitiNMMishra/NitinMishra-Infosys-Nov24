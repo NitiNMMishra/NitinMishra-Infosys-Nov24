{
 "cells": [
  {
   "cell_type": "code",
   "execution_count": null,
   "metadata": {},
   "outputs": [],
   "source": [
    "# Import necessary libraries\n",
    "import pandas as pd\n",
    "import matplotlib.pyplot as plt\n",
    "from statsmodels.tsa.ar_model import AutoReg\n",
    "from statsmodels.tsa.stattools import adfuller\n",
    "from statsmodels.tsa.statespace.sarimax import SARIMAX\n",
    "from sklearn.metrics import mean_squared_error\n",
    "import itertools"
   ]
  },
  {
   "cell_type": "code",
   "execution_count": null,
   "metadata": {},
   "outputs": [],
   "source": [
    "# Step 1: Load the dataset\n",
    "data = pd.read_excel('../datasets/master_dataset/master_dataset.xlsx')  # Ensure correct dataset path\n",
    "\n",
    "# Step 2: Define target and exogenous columns\n",
    "target_column = \"Quantity\"  # The main column for forecasting\n",
    "exogenous_columns = [\"Clicks\", \"Impressions\"]  # Exogenous variables\n",
    "\n",
    "# Step 3: Prepare the data\n",
    "time_series = data[target_column].dropna()  # Remove missing values in the target column\n",
    "exogenous_data = data[exogenous_columns].dropna()  # Remove missing values in exogenous variables\n",
    "\n",
    "# Ensure the lengths of target and exogenous variables match\n",
    "min_length = min(len(time_series), len(exogenous_data))\n",
    "time_series = time_series.iloc[:min_length]\n",
    "exogenous_data = exogenous_data.iloc[:min_length]\n",
    "\n",
    "# Display first few rows\n",
    "print(f\"First 5 rows of the target column '{target_column}':\\n\", time_series.head())\n",
    "print(f\"First 5 rows of exogenous variables:\\n\", exogenous_data.head())"
   ]
  },
  {
   "cell_type": "code",
   "execution_count": null,
   "metadata": {},
   "outputs": [],
   "source": [
    "# Step 4: Check stationarity of the target column\n",
    "adf_test = adfuller(time_series)\n",
    "print(f\"Dickey-Fuller Test Statistic: {adf_test[0]}\")\n",
    "print(f\"p-value: {adf_test[1]}\")\n",
    "\n",
    "if adf_test[1] > 0.05:\n",
    "    print(f\"The target column '{target_column}' is non-stationary. Applying differencing...\")\n",
    "    time_series_diff = time_series.diff().dropna()\n",
    "    exogenous_data = exogenous_data.iloc[1:].reset_index(drop=True)\n",
    "else:\n",
    "    print(f\"The target column '{target_column}' is stationary.\")\n",
    "    time_series_diff = time_series"
   ]
  },
  {
   "cell_type": "code",
   "execution_count": null,
   "metadata": {},
   "outputs": [],
   "source": [
    "# Step 5: Implement and evaluate each model\n",
    "\n",
    "# 5.1 Autoregression (AR)\n",
    "def run_autoregression(series):\n",
    "    ar_model = AutoReg(series, lags=1).fit()\n",
    "    print(\"\\nAutoregression (AR) Model Summary:\")\n",
    "    print(ar_model.summary())\n",
    "\n",
    "    predictions = ar_model.predict(start=1, end=len(series) - 1)\n",
    "    plt.figure(figsize=(10, 6))\n",
    "    plt.plot(series[1:], label=\"Actual\")\n",
    "    plt.plot(predictions, label=\"Predicted\", linestyle=\"--\")\n",
    "    plt.title(\"Autoregression (AR) Model\")\n",
    "    plt.legend()\n",
    "    plt.show()"
   ]
  },
  {
   "cell_type": "code",
   "execution_count": null,
   "metadata": {},
   "outputs": [],
   "source": [
    "# 5.2 Moving Average (MA)\n",
    "def run_moving_average(series, window_size=3):\n",
    "    moving_avg = series.rolling(window=window_size).mean()\n",
    "    plt.figure(figsize=(10, 6))\n",
    "    plt.plot(series, label=\"Original\")\n",
    "    plt.plot(moving_avg, label=\"Moving Average\", linestyle=\"--\")\n",
    "    plt.title(\"Moving Average (MA) Model\")\n",
    "    plt.legend()\n",
    "    plt.show()"
   ]
  },
  {
   "cell_type": "code",
   "execution_count": null,
   "metadata": {},
   "outputs": [],
   "source": [
    "# 5.3 ARIMA\n",
    "def run_arima(series, p=1, d=1, q=1):\n",
    "    arima_model = SARIMAX(series, order=(p, d, q)).fit(disp=False)\n",
    "    print(\"\\nARIMA Model Summary:\")\n",
    "    print(arima_model.summary())\n",
    "\n",
    "    predictions = arima_model.predict(start=1, end=len(series) - 1)\n",
    "    plt.figure(figsize=(10, 6))\n",
    "    plt.plot(series[1:], label=\"Actual\")\n",
    "    plt.plot(predictions, label=\"Predicted\", linestyle=\"--\")\n",
    "    plt.title(\"ARIMA Model\")\n",
    "    plt.legend()\n",
    "    plt.show()"
   ]
  },
  {
   "cell_type": "code",
   "execution_count": null,
   "metadata": {},
   "outputs": [],
   "source": [
    "# 5.4 SARIMA\n",
    "def run_sarima(series, p=1, d=1, q=1, P=1, D=1, Q=1, s=12):\n",
    "    sarima_model = SARIMAX(series, order=(p, d, q), seasonal_order=(P, D, Q, s)).fit(disp=False)\n",
    "    print(\"\\nSARIMA Model Summary:\")\n",
    "    print(sarima_model.summary())\n",
    "\n",
    "    predictions = sarima_model.predict(start=1, end=len(series) - 1)\n",
    "    plt.figure(figsize=(10, 6))\n",
    "    plt.plot(series[1:], label=\"Actual\")\n",
    "    plt.plot(predictions, label=\"Predicted\", linestyle=\"--\")\n",
    "    plt.title(\"SARIMA Model\")\n",
    "    plt.legend()\n",
    "    plt.show()"
   ]
  },
  {
   "cell_type": "code",
   "execution_count": null,
   "metadata": {},
   "outputs": [],
   "source": [
    "# 5.5 ARIMAX\n",
    "def run_arimax(series, exog, p=1, d=1, q=1):\n",
    "    arimax_model = SARIMAX(series, exog=exog, order=(p, d, q)).fit(disp=False)\n",
    "    print(\"\\nARIMAX Model Summary:\")\n",
    "    print(arimax_model.summary())\n",
    "\n",
    "    predictions = arimax_model.predict(start=1, end=len(series) - 1, exog=exog.iloc[1:])\n",
    "    plt.figure(figsize=(10, 6))\n",
    "    plt.plot(series[1:], label=\"Actual\")\n",
    "    plt.plot(predictions, label=\"Predicted\", linestyle=\"--\")\n",
    "    plt.title(\"ARIMAX Model\")\n",
    "    plt.legend()\n",
    "    plt.show()"
   ]
  },
  {
   "cell_type": "code",
   "execution_count": null,
   "metadata": {},
   "outputs": [],
   "source": [
    "# 5.6 SARIMAX\n",
    "def run_sarimax(series, exog, p=1, d=1, q=1, P=1, D=1, Q=1, s=12):\n",
    "    sarimax_model = SARIMAX(series, exog=exog, order=(p, d, q), seasonal_order=(P, D, Q, s)).fit(disp=False)\n",
    "    print(\"\\nSARIMAX Model Summary:\")\n",
    "    print(sarimax_model.summary())\n",
    "\n",
    "    predictions = sarimax_model.predict(start=1, end=len(series) - 1, exog=exog.iloc[1:])\n",
    "    plt.figure(figsize=(10, 6))\n",
    "    plt.plot(series[1:], label=\"Actual\")\n",
    "    plt.plot(predictions, label=\"Predicted\", linestyle=\"--\")\n",
    "    plt.title(\"SARIMAX Model\")\n",
    "    plt.legend()\n",
    "    plt.show()"
   ]
  },
  {
   "cell_type": "code",
   "execution_count": null,
   "metadata": {},
   "outputs": [],
   "source": [
    "# Step 6: Run all models\n",
    "print(\"\\nRunning Autoregression (AR):\")\n",
    "run_autoregression(time_series_diff)\n",
    "\n",
    "print(\"\\nRunning Moving Average (MA):\")\n",
    "run_moving_average(time_series_diff)\n",
    "\n",
    "print(\"\\nRunning ARIMA:\")\n",
    "run_arima(time_series_diff)\n",
    "\n",
    "print(\"\\nRunning SARIMA:\")\n",
    "run_sarima(time_series_diff)\n",
    "\n",
    "print(\"\\nRunning ARIMAX:\")\n",
    "run_arimax(time_series_diff, exog=exogenous_data)\n",
    "\n",
    "print(\"\\nRunning SARIMAX:\")\n",
    "run_sarimax(time_series_diff, exog=exogenous_data)"
   ]
  }
 ],
 "metadata": {
  "kernelspec": {
   "display_name": ".venv",
   "language": "python",
   "name": "python3"
  },
  "language_info": {
   "codemirror_mode": {
    "name": "ipython",
    "version": 3
   },
   "file_extension": ".py",
   "mimetype": "text/x-python",
   "name": "python",
   "nbconvert_exporter": "python",
   "pygments_lexer": "ipython3",
   "version": "3.13.0"
  }
 },
 "nbformat": 4,
 "nbformat_minor": 2
}
