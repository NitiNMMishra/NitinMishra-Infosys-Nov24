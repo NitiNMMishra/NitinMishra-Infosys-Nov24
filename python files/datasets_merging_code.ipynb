{
 "cells": [
  {
   "cell_type": "markdown",
   "metadata": {},
   "source": [
    "# Creating a Master Dataset\n",
    "\n",
    "To streamline the analysis process, I consolidated multiple data sources into a single, unified master dataset. This ensures all relevant information is available in one place for efficient analysis."
   ]
  },
  {
   "cell_type": "markdown",
   "metadata": {},
   "source": [
    "# Importing the Pandas Library\n",
    "\n",
    "I imported the **Pandas** library, which is essential for data manipulation and analysis. Pandas provides powerful tools for handling datasets, including reading, merging, and exporting data, making it a crucial part of this project.\n"
   ]
  },
  {
   "cell_type": "code",
   "execution_count": null,
   "metadata": {},
   "outputs": [],
   "source": [
    "import pandas as pd  # Import the pandas library for data manipulation and analysis"
   ]
  },
  {
   "cell_type": "markdown",
   "metadata": {},
   "source": [
    "# Loading Individual Datasets\n",
    "\n",
    "To begin the data consolidation process, I loaded three separate datasets into individual DataFrames:\n",
    "\n",
    "1. **Google Clicks**:\n",
    "   - File Path: `C:\\Users\\nitin\\OneDrive\\Documents\\Infosys Springboard Internship Files\\NitinMishra-Infosys-Nov24\\datasets\\ProductA_google_clicks.xlsx`\n",
    "   - Contains data on clicks generated through Google.\n",
    "\n",
    "2. **Facebook Impressions**:\n",
    "   - File Path: `C:\\Users\\nitin\\OneDrive\\Documents\\Infosys Springboard Internship Files\\NitinMishra-Infosys-Nov24\\datasets\\ProductA_fb_impressions.xlsx`\n",
    "   - Includes impression data from Facebook.\n",
    "\n",
    "3. **Quantity Data**:\n",
    "   - File Path: `C:\\Users\\nitin\\OneDrive\\Documents\\Infosys Springboard Internship Files\\NitinMishra-Infosys-Nov24\\datasets\\ProductA.xlsx`\n",
    "   - Provides sales-related data for Product A.\n",
    "\n",
    "Each dataset was read into a Pandas DataFrame using the `read_excel` function, ensuring the data is ready for merging and further processing.\n"
   ]
  },
  {
   "cell_type": "code",
   "execution_count": null,
   "metadata": {},
   "outputs": [],
   "source": [
    "# Load each Excel file into a DataFrame\n",
    "google_clicks = pd.read_excel(r'C:\\Users\\nitin\\OneDrive\\Documents\\Infosys Springboard Internship Files\\NitinMishra-Infosys-Nov24\\datasets\\ProductA_google_clicks.xlsx')\n",
    "fb_impressions = pd.read_excel(r'C:\\Users\\nitin\\OneDrive\\Documents\\Infosys Springboard Internship Files\\NitinMishra-Infosys-Nov24\\datasets\\ProductA_fb_impressions.xlsx')\n",
    "quantity = pd.read_excel(r'C:\\Users\\nitin\\OneDrive\\Documents\\Infosys Springboard Internship Files\\NitinMishra-Infosys-Nov24\\datasets\\ProductA.xlsx')\n"
   ]
  },
  {
   "cell_type": "markdown",
   "metadata": {},
   "source": [
    "# Merging Datasets\n",
    "\n",
    "To create a unified master dataset, I merged the three individual DataFrames on their common column, **`Day Index`**. Here's what this step accomplished:\n",
    "\n",
    "- Combined data from:\n",
    "  - **Google Clicks**\n",
    "  - **Facebook Impressions**\n",
    "  - **Quantity Data**\n",
    "- Used Pandas' `merge` method to join the datasets, ensuring alignment based on the **`Day Index`** column.\n",
    "\n",
    "This operation resulted in a comprehensive dataset that consolidates all relevant metrics, making it ready for analysis and visualization.\n"
   ]
  },
  {
   "cell_type": "code",
   "execution_count": null,
   "metadata": {},
   "outputs": [],
   "source": [
    "# Merge the three DataFrames on the common column \"Day Index\"\n",
    "# This combines all data into a single master dataset\n",
    "master_dataset = google_clicks.merge(fb_impressions, on=\"Day Index\").merge(quantity, on=\"Day Index\")"
   ]
  },
  {
   "cell_type": "markdown",
   "metadata": {},
   "source": [
    "# Saving the Master Dataset\n",
    "\n",
    "After merging the datasets, I saved the resulting master dataset to an Excel file for future use. Here's what I did:\n",
    "\n",
    "- Used the `to_excel` method to export the merged DataFrame to an Excel file.\n",
    "- Saved the file at the following location:\n",
    "  `C:/Users/nitin/OneDrive/Documents/Infosys Springboard Internship Files/NitinMishra-Infosys-Nov24/datasets/master_dataset/master_dataset.xlsx`\n",
    "- Ensured that the **index was excluded** (`index=False`) for a cleaner output.\n",
    "\n",
    "This step makes the unified dataset accessible for subsequent analyses and visualizations.\n"
   ]
  },
  {
   "cell_type": "code",
   "execution_count": null,
   "metadata": {},
   "outputs": [],
   "source": [
    "# Save the merged dataset to an Excel file in the specified directory\n",
    "master_dataset.to_excel(\"C:/Users/nitin/OneDrive/Documents/Infosys Springboard Internship Files/NitinMishra-Infosys-Nov24/datasets/master_dataset/master_dataset.xlsx\", index=False)\n",
    "# Print a confirmation message when the process is complete\n",
    "print(\"Done\")"
   ]
  }
 ],
 "metadata": {
  "kernelspec": {
   "display_name": ".venv",
   "language": "python",
   "name": "python3"
  },
  "language_info": {
   "name": "python",
   "version": "3.13.0"
  }
 },
 "nbformat": 4,
 "nbformat_minor": 2
}
