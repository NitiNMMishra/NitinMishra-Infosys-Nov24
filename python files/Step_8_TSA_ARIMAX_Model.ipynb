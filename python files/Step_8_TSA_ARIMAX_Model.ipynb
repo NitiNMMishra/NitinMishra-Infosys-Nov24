{
 "cells": [
  {
   "cell_type": "markdown",
   "id": "5730ee26",
   "metadata": {},
   "source": [
    "# ARIMAX (Autoregressive Integrated Moving Average with eXogenous variables) Model\n",
    "\n",
    "This notebook demonstrates the implementation of the ARIMAX (Autoregressive Integrated Moving Average with eXogenous variables) Model.\n",
    "\n",
    "ARIMAX is an extension of the ARIMA model that incorporates exogenous variables to improve forecasting. The model predicts the future values of a time series by combining:\n",
    "\n",
    "- **Autoregression (AR)**: Models the relationship between the current value and its past values (lags).\n",
    "- **Differencing (I)**: Removes trends or seasonality to make the time series stationary.\n",
    "- **Moving Average (MA)**: Accounts for the dependency between an observation and a residual error from previous forecasts.\n",
    "- **Exogenous Variables (X)**: Incorporates external factors that may influence the target variable.\n",
    "This notebook demonstrates the implementation of the ARIMAX (ARIMA with Exogenous Variables) Model."
   ]
  },
  {
   "cell_type": "markdown",
   "id": "3e6522e9",
   "metadata": {},
   "source": [
    "# Step 1 & 2: Loading Dataset and Defining Variables\n",
    "\n",
    "### Step 1: Loading the Dataset\n",
    "- I loaded the dataset from `'../datasets/master_dataset/master_dataset.xlsx'` using `pandas` and stored it in the variable `data`.\n",
    "\n",
    "### Step 2: Defining Target and Exogenous Variables\n",
    "- **Target Variable**: `Quantity`, which I want to forecast.\n",
    "- **Exogenous Variables**: `Clicks` and `Impressions`, which may influence the target variable.\n",
    "- These variables help the ARIMAX model combine historical data with external factors for accurate predictions.\n"
   ]
  },
  {
   "cell_type": "code",
   "execution_count": null,
   "id": "1eb00c6d",
   "metadata": {},
   "outputs": [],
   "source": [
    "# Import necessary libraries\n",
    "import pandas as pd\n",
    "import matplotlib.pyplot as plt\n",
    "from statsmodels.tsa.statespace.sarimax import SARIMAX\n",
    "from statsmodels.tsa.stattools import adfuller\n",
    "\n",
    "# Step 1: Load the dataset\n",
    "data = pd.read_excel('../datasets/master_dataset/master_dataset.xlsx')\n",
    "\n",
    "# Step 2: Define the main time series column and exogenous variables\n",
    "target_column = \"Quantity\"  # The column we want to forecast\n",
    "exogenous_columns = [\"Clicks\", \"Impressions\"]  # Exogenous variables"
   ]
  },
  {
   "cell_type": "markdown",
   "id": "53e789c9",
   "metadata": {},
   "source": [
    "# Step 3: Preparing the Data\n",
    "\n",
    "In this step, I prepared the data for ARIMAX analysis by cleaning and aligning the target and exogenous variables.\n",
    "\n",
    "- **Removing Missing Values**:\n",
    "  - I removed any missing values from the target column (`Quantity`) and the exogenous variables (`Clicks`, `Impressions`) using `.dropna()` to ensure clean data for analysis.\n",
    "\n",
    "- **Aligning Data Lengths**:\n",
    "  - I ensured that the target and exogenous variables had the same length by taking the minimum length of the two and slicing both datasets accordingly. This step avoids mismatched data during modeling.\n",
    "\n",
    "- **Inspecting the Data**:\n",
    "  - I displayed the first 5 rows of the target and exogenous variables to verify the data alignment and cleanliness.\n"
   ]
  },
  {
   "cell_type": "code",
   "execution_count": null,
   "id": "6e4a1305",
   "metadata": {},
   "outputs": [],
   "source": [
    "# Step 3: Prepare the data\n",
    "time_series = data[target_column].dropna()  # Remove missing values in the target column\n",
    "exogenous_data = data[exogenous_columns].dropna()  # Drop missing values in exogenous variables\n",
    "\n",
    "# Ensure the lengths of target and exogenous variables match\n",
    "min_length = min(len(time_series), len(exogenous_data))\n",
    "time_series = time_series.iloc[:min_length]\n",
    "exogenous_data = exogenous_data.iloc[:min_length]\n",
    "\n",
    "# Display first few rows of data\n",
    "print(f\"First 5 rows of the target column '{target_column}':\\n\", time_series.head())\n",
    "print(f\"First 5 rows of exogenous variables:\\n\", exogenous_data.head())"
   ]
  },
  {
   "cell_type": "markdown",
   "id": "8516dbed",
   "metadata": {},
   "source": [
    "# Step 4: Checking Stationarity of the Target Column\n",
    "\n",
    "- **Stationarity Test**:\n",
    "  - I used the Augmented Dickey-Fuller (ADF) test to check if the target column (`Quantity`) was stationary.\n",
    "  - The test outputs a **test statistic** and a **p-value**:\n",
    "    - If the `p-value > 0.05`, the series is non-stationary, and differencing was applied to remove trends and make the series stationary.\n",
    "    - If the `p-value <= 0.05`, the series is already stationary, and no further action was required.\n",
    "\n",
    "- **Handling Non-Stationary Data**:\n",
    "  - For non-stationary data, I calculated the differenced series using `.diff()` and removed the first row of exogenous data to align it with the differenced target column.\n",
    "\n",
    "This step ensures the target column is stationary, which is critical for time series modeling with ARIMAX.\n"
   ]
  },
  {
   "cell_type": "code",
   "execution_count": null,
   "id": "43ba195d",
   "metadata": {},
   "outputs": [],
   "source": [
    "# Step 4: Check stationarity of the target column\n",
    "adf_test = adfuller(time_series)\n",
    "print(f\"Dickey-Fuller Test Statistic: {adf_test[0]}\")\n",
    "print(f\"p-value: {adf_test[1]}\")\n",
    "\n",
    "if adf_test[1] > 0.05:\n",
    "    print(f\"The target column '{target_column}' is non-stationary. Applying differencing...\")\n",
    "    time_series_diff = time_series.diff().dropna()  # Make the series stationary\n",
    "\n",
    "    # Align exogenous data with differenced series\n",
    "    exogenous_data = exogenous_data.iloc[1:].reset_index(drop=True)\n",
    "else:\n",
    "    print(f\"The target column '{target_column}' is stationary.\")\n",
    "    time_series_diff = time_series"
   ]
  },
  {
   "cell_type": "markdown",
   "id": "04008293",
   "metadata": {},
   "source": [
    "# Step 5: Fitting the ARIMAX Model\n",
    "\n",
    "- **Setting Model Parameters**:\n",
    "  - I defined the ARIMAX model parameters `(p, d, q)` as `(1, 1, 1)`:\n",
    "    - `p`: The number of autoregressive terms.\n",
    "    - `d`: The degree of differencing to make the series stationary.\n",
    "    - `q`: The number of moving average terms.\n",
    "\n",
    "- **Fitting the Model**:\n",
    "  - I used the `SARIMAX` module from `statsmodels` to fit the ARIMAX model:\n",
    "    - The differenced target series (`time_series_diff`) was used as the dependent variable.\n",
    "    - The exogenous variables (`exogenous_data`) were included to capture external influences on the target variable.\n",
    "  - The `.fit()` method was used to train the model.\n",
    "\n",
    "This step ensures that the ARIMAX model is correctly fitted and ready for forecasting."
   ]
  },
  {
   "cell_type": "code",
   "execution_count": null,
   "id": "bfc31d0d",
   "metadata": {},
   "outputs": [],
   "source": [
    "# Step 5: Fit the ARIMAX Model\n",
    "p, d, q = 1, 1, 1  # ARIMAX model parameters\n",
    "arimax_model = SARIMAX(time_series_diff, exog=exogenous_data, order=(p, d, q)).fit()\n",
    "\n",
    "# Print the model summary\n",
    "print(\"ARIMAX Model Summary:\")\n",
    "print(arimax_model.summary())"
   ]
  },
  {
   "cell_type": "markdown",
   "id": "01ce5c7a",
   "metadata": {},
   "source": [
    "# Step 6: Making Predictions and Comparing Results\n",
    "\n",
    "- **Generating Predictions**:\n",
    "  - I used the `.predict()` method of the ARIMAX model to generate predictions for the target variable:\n",
    "    - The range for predictions was set from `start=1` to `end=len(time_series_diff) - 1`.\n",
    "    - The corresponding exogenous data (`exogenous_data.iloc[1:]`) was passed to align with the predictions.\n",
    "\n",
    "- **Comparison of Actual vs. Predicted**:\n",
    "  - I created a `pandas` DataFrame to combine the **actual** values of the target variable with the **predicted** values.\n",
    "  - The first 5 rows of this comparison were displayed to inspect the results.\n",
    "\n",
    "- **Visualizing the Comparison**:\n",
    "  - I plotted the **Actual** vs. **Predicted** values to assess the model's performance:\n",
    "    - The actual values were plotted in blue, while the predicted values were plotted in red (dashed line).\n",
    "    - This visualization helped evaluate how closely the model predictions matched the actual data.\n",
    "\n",
    "This step highlights the ARIMAX model's effectiveness in capturing patterns in the target variable and its relationship with exogenous factors.\n"
   ]
  },
  {
   "cell_type": "code",
   "execution_count": null,
   "id": "8a62acee",
   "metadata": {},
   "outputs": [],
   "source": [
    "# Step 6: Make predictions\n",
    "predictions = arimax_model.predict(start=1, end=len(time_series_diff) - 1, exog=exogenous_data.iloc[1:])\n",
    "\n",
    "# Combine actual and predicted values for comparison\n",
    "comparison = pd.DataFrame({\n",
    "    \"Actual\": time_series_diff[1:].values,\n",
    "    \"Predicted\": predictions\n",
    "})\n",
    "\n",
    "# Display first 5 rows of the comparison\n",
    "print(f\"\\nFirst 5 rows of Actual vs Predicted for '{target_column}':\\n\", comparison.head())\n",
    "\n",
    "# Plot Actual vs Predicted\n",
    "plt.figure(figsize=(10, 6))\n",
    "plt.plot(comparison[\"Actual\"], label=\"Actual\", color=\"blue\")\n",
    "plt.plot(comparison[\"Predicted\"], label=\"Predicted\", color=\"red\", linestyle=\"--\")\n",
    "plt.title(f\"Actual vs Predicted - ARIMAX Model ({target_column})\")\n",
    "plt.xlabel(\"Time\")\n",
    "plt.ylabel(target_column)\n",
    "plt.legend()\n",
    "plt.grid()\n",
    "plt.show()"
   ]
  },
  {
   "cell_type": "markdown",
   "id": "92ac954c",
   "metadata": {},
   "source": [
    "# Step 7: Forecasting Future Values\n",
    "\n",
    "- **Setting the Forecast Horizon**:\n",
    "  - I defined the number of future steps to forecast as `5`, allowing the model to predict the next 5 values of the target variable.\n",
    "\n",
    "- **Preparing Exogenous Data**:\n",
    "  - I extracted the last 5 rows of the exogenous variables (`future_exog`) to provide the ARIMAX model with recent external factors for forecasting.\n",
    "\n",
    "- **Generating Forecasts**:\n",
    "  - I used the `.forecast()` method of the ARIMAX model to predict the next 5 values:\n",
    "    - The exogenous variables (`future_exog`) were passed to incorporate external influences during forecasting.\n",
    "  - The forecasted values were printed for review and interpretation.\n",
    "\n",
    "This step uses the trained ARIMAX model to predict future values while leveraging exogenous factors to improve accuracy.\n"
   ]
  },
  {
   "cell_type": "code",
   "execution_count": null,
   "id": "2fb7507e",
   "metadata": {},
   "outputs": [],
   "source": [
    "# Step 7: Forecast future values\n",
    "forecast_steps = 5  # Number of steps to forecast\n",
    "future_exog = exogenous_data.iloc[-forecast_steps:]  # Use recent exogenous data\n",
    "forecast = arimax_model.forecast(steps=forecast_steps, exog=future_exog)\n",
    "\n",
    "print(f\"\\nForecasted Values for '{target_column}':\\n\", forecast)"
   ]
  },
  {
   "cell_type": "markdown",
   "id": "a1d8be40",
   "metadata": {},
   "source": [
    "# Step 8: Displaying Forecast Results\n",
    "\n",
    "- **Creating the Forecast Index**:\n",
    "  - I generated a range of indices to represent the future time points for the forecasted values:\n",
    "    - The range started from the end of the original time series and extended for the defined `forecast_steps`.\n",
    "\n",
    "- **Visualizing the Forecast**:\n",
    "  - I plotted the original time series data (`time_series_diff`) and the forecasted values on the same graph:\n",
    "    - The original series was plotted in blue, showing the historical behavior of the target variable.\n",
    "    - The forecasted values were plotted in red with a dashed line to distinguish them clearly as predictions.\n",
    "  - The plot includes:\n",
    "    - A title to indicate the forecast results for the target variable.\n",
    "    - Labels for the x-axis (`Time`) and y-axis (the target column).\n",
    "    - A legend to differentiate between the original data and the forecasted values.\n",
    "\n",
    "This step visually compares the model's forecast with the historical data, making it easier to interpret the future trends predicted by the ARIMAX model.\n"
   ]
  },
  {
   "cell_type": "code",
   "execution_count": null,
   "id": "ef440020",
   "metadata": {},
   "outputs": [],
   "source": [
    "# Step 8: Display forecast results\n",
    "future_index = range(len(time_series_diff), len(time_series_diff) + forecast_steps)\n",
    "plt.figure(figsize=(10, 6))\n",
    "plt.plot(time_series_diff, label=\"Original\", color=\"blue\")\n",
    "plt.plot(future_index, forecast, label=\"Forecast\", color=\"red\", linestyle=\"--\")\n",
    "plt.title(f\"Forecasted Values - ARIMAX Model ({target_column})\")\n",
    "plt.xlabel(\"Time\")\n",
    "plt.ylabel(target_column)\n",
    "plt.legend()\n",
    "plt.grid()\n",
    "plt.show()"
   ]
  }
 ],
 "metadata": {
  "kernelspec": {
   "display_name": ".venv",
   "language": "python",
   "name": "python3"
  },
  "language_info": {
   "codemirror_mode": {
    "name": "ipython",
    "version": 3
   },
   "file_extension": ".py",
   "mimetype": "text/x-python",
   "name": "python",
   "nbconvert_exporter": "python",
   "pygments_lexer": "ipython3",
   "version": "3.13.0"
  }
 },
 "nbformat": 4,
 "nbformat_minor": 5
}
