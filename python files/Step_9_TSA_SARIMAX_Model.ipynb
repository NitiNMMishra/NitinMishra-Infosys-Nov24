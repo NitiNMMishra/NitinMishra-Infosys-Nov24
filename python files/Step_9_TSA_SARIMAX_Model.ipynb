{
 "cells": [
  {
   "cell_type": "markdown",
   "id": "943dadde",
   "metadata": {},
   "source": [
    "# SARIMAX (Seasonal ARIMA with eXogenous variables) Model\n",
    "\n",
    "This notebook demonstrates the implementation of the SARIMAX (Seasonal ARIMA with eXogenous variables) Model.\n",
    "\n",
    "SARIMAX extends the SARIMA model by incorporating exogenous variables that influence the target variable. It is particularly useful for forecasting time series data with both seasonal patterns and external factors. The SARIMAX model combines:\n",
    "\n",
    "- **Seasonal ARIMA Components**:\n",
    "  - **Autoregression (AR)**: Captures the relationship between an observation and its previous values.\n",
    "  - **Differencing (I)**: Removes trends and seasonality to make the series stationary.\n",
    "  - **Moving Average (MA)**: Accounts for the relationship between an observation and past forecast errors.\n",
    "  - **Seasonality (SAR, SI, SMA)**: Handles recurring patterns at regular intervals.\n",
    "- **Exogenous Variables (X)**:\n",
    "  - Incorporates external factors that may influence the target variable for more accurate predictions."
   ]
  },
  {
   "cell_type": "markdown",
   "id": "b237234c",
   "metadata": {},
   "source": [
    "# Step 1 & 2: Importing Libraries and Loading Dataset\n",
    "\n",
    "### Step 1: Loading the Dataset\n",
    "- I used `pandas` to load the dataset from `'../datasets/master_dataset/master_dataset.xlsx'`.\n",
    "- The data was stored in the variable `data` for further processing.\n",
    "\n",
    "### Step 2: Defining Target and Exogenous Variables\n",
    "- **Target Variable**: `Quantity`, the main column to forecast.\n",
    "- **Exogenous Variables**: `Clicks` and `Impressions`, external factors that may influence the target variable.\n",
    "- These variables will help the SARIMAX model consider both historical patterns and external influences for better predictions.\n"
   ]
  },
  {
   "cell_type": "code",
   "execution_count": null,
   "id": "97d8badc",
   "metadata": {},
   "outputs": [],
   "source": [
    "# Import necessary libraries\n",
    "import pandas as pd\n",
    "import matplotlib.pyplot as plt\n",
    "from statsmodels.tsa.statespace.sarimax import SARIMAX\n",
    "from statsmodels.tsa.stattools import adfuller\n",
    "\n",
    "# Step 1: Load the dataset\n",
    "data = pd.read_excel('../datasets/master_dataset/master_dataset.xlsx')\n",
    "\n",
    "# Step 2: Define the main time series column and exogenous variables\n",
    "target_column = \"Quantity\"  # The column we want to forecast\n",
    "exogenous_columns = [\"Clicks\", \"Impressions\"]  # Exogenous variables"
   ]
  },
  {
   "cell_type": "markdown",
   "id": "829645a7",
   "metadata": {},
   "source": [
    "# Step 3: Preparing the Data\n",
    "\n",
    "- **Cleaning the Data**:\n",
    "  - I removed missing values from the target column (`Quantity`) and exogenous variables (`Clicks`, `Impressions`) using `.dropna()`.\n",
    "\n",
    "- **Aligning Data Lengths**:\n",
    "  - To ensure compatibility, I matched the lengths of the target and exogenous variables by slicing both to the minimum length.\n",
    "\n",
    "- **Inspecting the Data**:\n",
    "  - I displayed the first 5 rows of the cleaned target column and exogenous variables to verify their alignment and readiness for modeling.\n"
   ]
  },
  {
   "cell_type": "code",
   "execution_count": null,
   "id": "b3255456",
   "metadata": {},
   "outputs": [],
   "source": [
    "# Step 3: Prepare the data\n",
    "time_series = data[target_column].dropna()  # Remove missing values in the target column\n",
    "exogenous_data = data[exogenous_columns].dropna()  # Drop missing values in exogenous variables\n",
    "\n",
    "# Ensure the lengths of target and exogenous variables match\n",
    "min_length = min(len(time_series), len(exogenous_data))\n",
    "time_series = time_series.iloc[:min_length]\n",
    "exogenous_data = exogenous_data.iloc[:min_length]\n",
    "\n",
    "# Display first few rows of data\n",
    "print(f\"First 5 rows of the target column '{target_column}':\\n\", time_series.head())\n",
    "print(f\"First 5 rows of exogenous variables:\\n\", exogenous_data.head())"
   ]
  },
  {
   "cell_type": "markdown",
   "id": "6e02529d",
   "metadata": {},
   "source": [
    "# Step 4: Checking Stationarity of the Target Column\n",
    "\n",
    "- **Stationarity Test**:\n",
    "  - I used the Augmented Dickey-Fuller (ADF) test to check if the target column (`Quantity`) was stationary.\n",
    "  - The test outputs a **test statistic** and a **p-value**:\n",
    "    - If `p-value > 0.05`: The series is non-stationary, and I applied differencing using `.diff()` to make it stationary.\n",
    "    - If `p-value <= 0.05`: The series is already stationary, so no differencing was needed.\n",
    "\n",
    "- **Aligning Exogenous Data**:\n",
    "  - For differenced data, I adjusted the exogenous variables by removing the first row to ensure alignment with the differenced target column.\n",
    "\n",
    "This step ensures the target series is stationary, a critical requirement for accurate SARIMAX modeling.\n"
   ]
  },
  {
   "cell_type": "code",
   "execution_count": null,
   "id": "3f19ae49",
   "metadata": {},
   "outputs": [],
   "source": [
    "# Step 4: Check stationarity of the target column\n",
    "adf_test = adfuller(time_series)\n",
    "print(f\"Dickey-Fuller Test Statistic: {adf_test[0]}\")\n",
    "print(f\"p-value: {adf_test[1]}\")\n",
    "\n",
    "if adf_test[1] > 0.05:\n",
    "    print(f\"The target column '{target_column}' is non-stationary. Applying differencing...\")\n",
    "    time_series_diff = time_series.diff().dropna()  # Make the series stationary\n",
    "\n",
    "    # Align exogenous data with differenced series\n",
    "    exogenous_data = exogenous_data.iloc[1:].reset_index(drop=True)\n",
    "else:\n",
    "    print(f\"The target column '{target_column}' is stationary.\")\n",
    "    time_series_diff = time_series"
   ]
  },
  {
   "cell_type": "markdown",
   "id": "f716b21d",
   "metadata": {},
   "source": [
    "# Step 5: Fitting the SARIMAX Model\n",
    "\n",
    "- **Defining Model Parameters**:\n",
    "  - I set the non-seasonal parameters `(p, d, q)` to `(1, 1, 1)`, which control:\n",
    "    - `p`: Autoregressive terms.\n",
    "    - `d`: Differencing to achieve stationarity.\n",
    "    - `q`: Moving average terms.\n",
    "  - I defined the seasonal parameters `(P, D, Q, s)` as `(1, 1, 1, 12)`, where:\n",
    "    - `P`, `D`, `Q`: Seasonal counterparts of `p`, `d`, `q`.\n",
    "    - `s = 12`: Indicates a monthly seasonality.\n",
    "\n",
    "- **Fitting the Model**:\n",
    "  - I used the `SARIMAX` module to fit the model:\n",
    "    - `time_series_diff`: The stationary target series as the dependent variable.\n",
    "    - `exog=exogenous_data`: The exogenous variables to account for external factors.\n",
    "  - The `.fit()` method trained the model."
   ]
  },
  {
   "cell_type": "code",
   "execution_count": null,
   "id": "a53fc585",
   "metadata": {},
   "outputs": [],
   "source": [
    "# Step 5: Fit the SARIMAX Model\n",
    "# Set SARIMAX model parameters (p, d, q, P, D, Q, s)\n",
    "p, d, q = 1, 1, 1  # Non-seasonal parameters\n",
    "P, D, Q, s = 1, 1, 1, 12  # Seasonal parameters (s = 12 for monthly data, adjust as needed)\n",
    "sarimax_model = SARIMAX(time_series_diff, exog=exogenous_data, order=(p, d, q), seasonal_order=(P, D, Q, s)).fit()\n",
    "\n",
    "# Print the model summary\n",
    "print(\"SARIMAX Model Summary:\")\n",
    "print(sarimax_model.summary())"
   ]
  },
  {
   "cell_type": "markdown",
   "id": "ade33f78",
   "metadata": {},
   "source": [
    "# Step 6: Making Predictions and Comparing Results\n",
    "\n",
    "- **Generating Predictions**:\n",
    "  - I used the `.predict()` method of the SARIMAX model to generate predictions for the observed time series:\n",
    "    - Predictions were made from `start=1` to `end=len(time_series_diff) - 1`.\n",
    "    - Corresponding exogenous variables (`exogenous_data.iloc[1:]`) were provided to align with the predictions.\n",
    "\n",
    "- **Creating a Comparison**:\n",
    "  - I combined the **actual** and **predicted** values into a `pandas` DataFrame to compare the performance of the SARIMAX model.\n",
    "  - The first 5 rows of the comparison were displayed for a quick inspection.\n",
    "\n",
    "- **Visualizing Results**:\n",
    "  - I plotted the **Actual** vs. **Predicted** values:\n",
    "    - The actual values were plotted in blue to represent the observed data.\n",
    "    - The predicted values were plotted in red with a dashed line to indicate the model's predictions.\n",
    "  - This visualization highlights how well the SARIMAX model fits the observed data.\n",
    "\n",
    "This step evaluates the model's performance by comparing predicted values with the actual time series, helping validate its accuracy.\n"
   ]
  },
  {
   "cell_type": "code",
   "execution_count": null,
   "id": "f829c716",
   "metadata": {},
   "outputs": [],
   "source": [
    "# Step 6: Make predictions\n",
    "predictions = sarimax_model.predict(start=1, end=len(time_series_diff) - 1, exog=exogenous_data.iloc[1:])\n",
    "\n",
    "# Combine actual and predicted values for comparison\n",
    "comparison = pd.DataFrame({\n",
    "    \"Actual\": time_series_diff[1:].values,\n",
    "    \"Predicted\": predictions\n",
    "})\n",
    "\n",
    "# Display first 5 rows of the comparison\n",
    "print(f\"\\nFirst 5 rows of Actual vs Predicted for '{target_column}':\\n\", comparison.head())\n",
    "\n",
    "# Plot Actual vs Predicted\n",
    "plt.figure(figsize=(10, 6))\n",
    "plt.plot(comparison[\"Actual\"], label=\"Actual\", color=\"blue\")\n",
    "plt.plot(comparison[\"Predicted\"], label=\"Predicted\", color=\"red\", linestyle=\"--\")\n",
    "plt.title(f\"Actual vs Predicted - SARIMAX Model ({target_column})\")\n",
    "plt.xlabel(\"Time\")\n",
    "plt.ylabel(target_column)\n",
    "plt.legend()\n",
    "plt.grid()\n",
    "plt.show()"
   ]
  },
  {
   "cell_type": "markdown",
   "id": "9629bef3",
   "metadata": {},
   "source": [
    "# Step 7: Forecasting Future Values\n",
    "\n",
    "- **Defining Forecast Horizon**:\n",
    "  - I set the number of steps for forecasting to `5`, predicting the next 5 future values of the target variable.\n",
    "\n",
    "- **Preparing Exogenous Data**:\n",
    "  - I extracted the last 5 rows of exogenous variables (`future_exog`) to provide the model with the most recent external factors for forecasting.\n",
    "\n",
    "- **Generating Forecasts**:\n",
    "  - I used the `.forecast()` method of the SARIMAX model to predict future values:\n",
    "    - The `future_exog` data was passed to account for external influences during forecasting.\n",
    "  - The forecasted values were printed for review.\n",
    "\n",
    "This step uses the trained SARIMAX model to predict future values while considering external factors, enabling actionable insights for planning and decision-making.\n"
   ]
  },
  {
   "cell_type": "code",
   "execution_count": null,
   "id": "84852536",
   "metadata": {},
   "outputs": [],
   "source": [
    "# Step 7: Forecast future values\n",
    "forecast_steps = 5  # Number of steps to forecast\n",
    "future_exog = exogenous_data.iloc[-forecast_steps:]  # Use recent exogenous data\n",
    "forecast = sarimax_model.forecast(steps=forecast_steps, exog=future_exog)\n",
    "\n",
    "print(f\"\\nForecasted Values for '{target_column}':\\n\", forecast)"
   ]
  },
  {
   "cell_type": "markdown",
   "id": "31360bb4",
   "metadata": {},
   "source": [
    "# Step 8: Displaying Forecast Results\n",
    "\n",
    "- **Creating Future Index**:\n",
    "  - I generated a range of indices to represent the time points for the forecasted values:\n",
    "    - This index starts from the end of the original time series and extends for the number of forecast steps.\n",
    "\n",
    "- **Visualizing Forecasts**:\n",
    "  - I plotted the original time series (`time_series_diff`) alongside the forecasted values:\n",
    "    - The original series was plotted in blue to show the historical data.\n",
    "    - The forecasted values were plotted in red with a dashed line to highlight the model's predictions.\n",
    "  - The plot includes:\n",
    "    - A title indicating the SARIMAX forecast results.\n",
    "    - Labels for the x-axis (`Time`) and y-axis (`Quantity`).\n",
    "    - A legend to distinguish between the original and forecasted values.\n",
    "\n",
    "This step provides a clear visual comparison of historical data and forecasted trends, making it easy to interpret the SARIMAX model's predictions.\n"
   ]
  },
  {
   "cell_type": "code",
   "execution_count": null,
   "id": "39fddb99",
   "metadata": {},
   "outputs": [],
   "source": [
    "# Step 8: Display forecast results\n",
    "future_index = range(len(time_series_diff), len(time_series_diff) + forecast_steps)\n",
    "plt.figure(figsize=(10, 6))\n",
    "plt.plot(time_series_diff, label=\"Original\", color=\"blue\")\n",
    "plt.plot(future_index, forecast, label=\"Forecast\", color=\"red\", linestyle=\"--\")\n",
    "plt.title(f\"Forecasted Values - SARIMAX Model ({target_column})\")\n",
    "plt.xlabel(\"Time\")\n",
    "plt.ylabel(target_column)\n",
    "plt.legend()\n",
    "plt.grid()\n",
    "plt.show()"
   ]
  },
  {
   "cell_type": "markdown",
   "id": "d0a01dd3",
   "metadata": {},
   "source": [
    "## Conclusion\n",
    "\n",
    "Summarize the findings and the effectiveness of the model."
   ]
  }
 ],
 "metadata": {
  "kernelspec": {
   "display_name": ".venv",
   "language": "python",
   "name": "python3"
  },
  "language_info": {
   "codemirror_mode": {
    "name": "ipython",
    "version": 3
   },
   "file_extension": ".py",
   "mimetype": "text/x-python",
   "name": "python",
   "nbconvert_exporter": "python",
   "pygments_lexer": "ipython3",
   "version": "3.13.0"
  }
 },
 "nbformat": 4,
 "nbformat_minor": 5
}
